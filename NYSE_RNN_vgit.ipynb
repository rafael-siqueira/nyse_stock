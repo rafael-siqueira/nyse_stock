{
 "cells": [
  {
   "cell_type": "code",
   "execution_count": 213,
   "metadata": {},
   "outputs": [],
   "source": [
    "import sys\n",
    "import pandas as pd\n",
    "import numpy as np\n",
    "import tensorflow\n",
    "import matplotlib.pyplot as plt\n",
    "import joblib as jb\n",
    "\n",
    "#Preprocessing\n",
    "from sklearn.preprocessing import MinMaxScaler\n",
    "from sklearn.preprocessing import StandardScaler\n",
    "\n",
    "#Modeling\n",
    "import math\n",
    "from tensorflow.keras.models import Sequential\n",
    "from tensorflow.keras.layers import Dense, BatchNormalization, Dropout, Activation\n",
    "from tensorflow.keras.layers import LSTM, GRU, Input\n",
    "from sklearn.metrics import mean_squared_error\n",
    "from tensorflow.keras.optimizers import Adam, SGD, RMSprop\n",
    "from tensorflow.keras.callbacks import ReduceLROnPlateau, ModelCheckpoint\n",
    "\n",
    "np.set_printoptions(threshold=20)"
   ]
  },
  {
   "cell_type": "markdown",
   "metadata": {},
   "source": [
    "#### Importing stock prices data and cleaning date"
   ]
  },
  {
   "cell_type": "code",
   "execution_count": 2,
   "metadata": {},
   "outputs": [
    {
     "data": {
      "text/html": [
       "<div>\n",
       "<style scoped>\n",
       "    .dataframe tbody tr th:only-of-type {\n",
       "        vertical-align: middle;\n",
       "    }\n",
       "\n",
       "    .dataframe tbody tr th {\n",
       "        vertical-align: top;\n",
       "    }\n",
       "\n",
       "    .dataframe thead th {\n",
       "        text-align: right;\n",
       "    }\n",
       "</style>\n",
       "<table border=\"1\" class=\"dataframe\">\n",
       "  <thead>\n",
       "    <tr style=\"text-align: right;\">\n",
       "      <th></th>\n",
       "      <th>symbol</th>\n",
       "      <th>open</th>\n",
       "      <th>close</th>\n",
       "      <th>low</th>\n",
       "      <th>high</th>\n",
       "      <th>volume</th>\n",
       "      <th>clean_date</th>\n",
       "    </tr>\n",
       "  </thead>\n",
       "  <tbody>\n",
       "    <tr>\n",
       "      <th>0</th>\n",
       "      <td>WLTW</td>\n",
       "      <td>123.430000</td>\n",
       "      <td>125.839996</td>\n",
       "      <td>122.309998</td>\n",
       "      <td>126.250000</td>\n",
       "      <td>2163600.0</td>\n",
       "      <td>2016-01-05</td>\n",
       "    </tr>\n",
       "    <tr>\n",
       "      <th>1</th>\n",
       "      <td>WLTW</td>\n",
       "      <td>125.239998</td>\n",
       "      <td>119.980003</td>\n",
       "      <td>119.940002</td>\n",
       "      <td>125.540001</td>\n",
       "      <td>2386400.0</td>\n",
       "      <td>2016-01-06</td>\n",
       "    </tr>\n",
       "    <tr>\n",
       "      <th>2</th>\n",
       "      <td>WLTW</td>\n",
       "      <td>116.379997</td>\n",
       "      <td>114.949997</td>\n",
       "      <td>114.930000</td>\n",
       "      <td>119.739998</td>\n",
       "      <td>2489500.0</td>\n",
       "      <td>2016-01-07</td>\n",
       "    </tr>\n",
       "    <tr>\n",
       "      <th>3</th>\n",
       "      <td>WLTW</td>\n",
       "      <td>115.480003</td>\n",
       "      <td>116.620003</td>\n",
       "      <td>113.500000</td>\n",
       "      <td>117.440002</td>\n",
       "      <td>2006300.0</td>\n",
       "      <td>2016-01-08</td>\n",
       "    </tr>\n",
       "    <tr>\n",
       "      <th>4</th>\n",
       "      <td>WLTW</td>\n",
       "      <td>117.010002</td>\n",
       "      <td>114.970001</td>\n",
       "      <td>114.089996</td>\n",
       "      <td>117.330002</td>\n",
       "      <td>1408600.0</td>\n",
       "      <td>2016-01-11</td>\n",
       "    </tr>\n",
       "  </tbody>\n",
       "</table>\n",
       "</div>"
      ],
      "text/plain": [
       "  symbol        open       close         low        high     volume clean_date\n",
       "0   WLTW  123.430000  125.839996  122.309998  126.250000  2163600.0 2016-01-05\n",
       "1   WLTW  125.239998  119.980003  119.940002  125.540001  2386400.0 2016-01-06\n",
       "2   WLTW  116.379997  114.949997  114.930000  119.739998  2489500.0 2016-01-07\n",
       "3   WLTW  115.480003  116.620003  113.500000  117.440002  2006300.0 2016-01-08\n",
       "4   WLTW  117.010002  114.970001  114.089996  117.330002  1408600.0 2016-01-11"
      ]
     },
     "execution_count": 2,
     "metadata": {},
     "output_type": "execute_result"
    }
   ],
   "source": [
    "prices_df = pd.read_csv('./prices.csv')\n",
    "prices_df['clean_date'] = pd.to_datetime(prices_df.date, format='%Y-%m-%d %H:%M:%S')\n",
    "prices_df.drop('date', axis=1, inplace=True)\n",
    "prices_df.head()"
   ]
  },
  {
   "cell_type": "markdown",
   "metadata": {},
   "source": [
    "#### Selecting Apple stock to build model"
   ]
  },
  {
   "cell_type": "code",
   "execution_count": 3,
   "metadata": {},
   "outputs": [],
   "source": [
    "apple_df = prices_df[prices_df['symbol'] == 'AAPL'].copy()\n",
    "apple_df.reset_index(drop=True, inplace=True)\n",
    "aapl_close_df = apple_df[['clean_date', 'close']].copy()"
   ]
  },
  {
   "cell_type": "markdown",
   "metadata": {},
   "source": [
    "#### Splitting between training (train) and validation (val) data (~70%-30%)"
   ]
  },
  {
   "cell_type": "code",
   "execution_count": 8,
   "metadata": {},
   "outputs": [
    {
     "name": "stdout",
     "output_type": "stream",
     "text": [
      "Train size: 1233\n",
      "Val size: 529\n"
     ]
    }
   ],
   "source": [
    "data_size = aapl_close_df['clean_date'].shape[0]\n",
    "print(\"Train size: {}\\nVal size: {}\".format(round(0.7*data_size), round(0.3*data_size)))"
   ]
  },
  {
   "cell_type": "code",
   "execution_count": 9,
   "metadata": {},
   "outputs": [
    {
     "name": "stdout",
     "output_type": "stream",
     "text": [
      "(1258, 2) (504, 2)\n"
     ]
    }
   ],
   "source": [
    "train_mask = aapl_close_df['clean_date'] < \"2015-01-01\"\n",
    "val_mask = aapl_close_df['clean_date'] >= \"2015-01-01\"\n",
    "\n",
    "train_df, val_df = aapl_close_df[train_mask].copy(), aapl_close_df[val_mask].copy()\n",
    "print(train_df.shape, val_df.shape)"
   ]
  },
  {
   "cell_type": "code",
   "execution_count": 6,
   "metadata": {},
   "outputs": [
    {
     "data": {
      "text/html": [
       "<div>\n",
       "<style scoped>\n",
       "    .dataframe tbody tr th:only-of-type {\n",
       "        vertical-align: middle;\n",
       "    }\n",
       "\n",
       "    .dataframe tbody tr th {\n",
       "        vertical-align: top;\n",
       "    }\n",
       "\n",
       "    .dataframe thead th {\n",
       "        text-align: right;\n",
       "    }\n",
       "</style>\n",
       "<table border=\"1\" class=\"dataframe\">\n",
       "  <thead>\n",
       "    <tr style=\"text-align: right;\">\n",
       "      <th></th>\n",
       "      <th>clean_date</th>\n",
       "      <th>close</th>\n",
       "    </tr>\n",
       "  </thead>\n",
       "  <tbody>\n",
       "    <tr>\n",
       "      <th>0</th>\n",
       "      <td>2010-01-04</td>\n",
       "      <td>214.009998</td>\n",
       "    </tr>\n",
       "    <tr>\n",
       "      <th>1</th>\n",
       "      <td>2010-01-05</td>\n",
       "      <td>214.379993</td>\n",
       "    </tr>\n",
       "    <tr>\n",
       "      <th>2</th>\n",
       "      <td>2010-01-06</td>\n",
       "      <td>210.969995</td>\n",
       "    </tr>\n",
       "    <tr>\n",
       "      <th>3</th>\n",
       "      <td>2010-01-07</td>\n",
       "      <td>210.580000</td>\n",
       "    </tr>\n",
       "    <tr>\n",
       "      <th>4</th>\n",
       "      <td>2010-01-08</td>\n",
       "      <td>211.980005</td>\n",
       "    </tr>\n",
       "  </tbody>\n",
       "</table>\n",
       "</div>"
      ],
      "text/plain": [
       "  clean_date       close\n",
       "0 2010-01-04  214.009998\n",
       "1 2010-01-05  214.379993\n",
       "2 2010-01-06  210.969995\n",
       "3 2010-01-07  210.580000\n",
       "4 2010-01-08  211.980005"
      ]
     },
     "execution_count": 6,
     "metadata": {},
     "output_type": "execute_result"
    }
   ],
   "source": [
    "train_df.head()"
   ]
  },
  {
   "cell_type": "markdown",
   "metadata": {},
   "source": [
    "#### Scaling close price: fit_transform train data, transform val data"
   ]
  },
  {
   "cell_type": "code",
   "execution_count": 10,
   "metadata": {},
   "outputs": [
    {
     "name": "stdout",
     "output_type": "stream",
     "text": [
      "(1258, 1)\n"
     ]
    }
   ],
   "source": [
    "# train\n",
    "train = train_df['close'].to_numpy()\n",
    "scaler = StandardScaler()\n",
    "train = scaler.fit_transform(train.reshape(-1,1))\n",
    "\n",
    "# val\n",
    "val = val_df['close'].to_numpy()\n",
    "val = scaler.transform(val.reshape(-1,1))\n",
    "\n",
    "print(train.shape)"
   ]
  },
  {
   "cell_type": "markdown",
   "metadata": {},
   "source": [
    "#### Determining function to process lag features"
   ]
  },
  {
   "cell_type": "code",
   "execution_count": 85,
   "metadata": {},
   "outputs": [],
   "source": [
    "def process_lag_features(data, n_lags):\n",
    "    X_data, y_data = [], []\n",
    "    feature_size = len(data) - n_lags\n",
    "    \n",
    "    for n in range(feature_size):\n",
    "        aux = data[n:(n + n_lags), 0]\n",
    "        X_data.append(aux)\n",
    "        y_data.append(data[(n + n_lags), 0])\n",
    "   \n",
    "    return np.array(X_data), np.array(y_data)"
   ]
  },
  {
   "cell_type": "markdown",
   "metadata": {},
   "source": [
    "#### Determining function to process rolling mean feature"
   ]
  },
  {
   "cell_type": "code",
   "execution_count": 86,
   "metadata": {},
   "outputs": [],
   "source": [
    "def process_roll_mean_feature(data, window, min_periods):\n",
    "    X_data = pd.DataFrame(data)\n",
    "    X_data = X_data.rolling(window=window, min_periods=min_periods).mean().values\n",
    "    \n",
    "    return np.array(X_data)"
   ]
  },
  {
   "cell_type": "markdown",
   "metadata": {},
   "source": [
    "#### Setting feature engineering parameters"
   ]
  },
  {
   "cell_type": "code",
   "execution_count": 195,
   "metadata": {},
   "outputs": [],
   "source": [
    "n_lags = 4 # number of past values used for predicting next one\n",
    "window = 10 # size of window used to compute rolling mean\n",
    "min_periods = 3 # minimum number of past values available needed for computting rolling mean"
   ]
  },
  {
   "cell_type": "markdown",
   "metadata": {},
   "source": [
    "#### Computing features"
   ]
  },
  {
   "cell_type": "code",
   "execution_count": 196,
   "metadata": {},
   "outputs": [],
   "source": [
    "# train\n",
    "# lag\n",
    "X_lag_train, y_train_raw = process_lag_features(train, n_lags)\n",
    "X_lag_train_final = X_lag_train[min_periods-1:].copy()\n",
    "\n",
    "# rolling mean\n",
    "X_roll_train = process_roll_mean_feature(train, window=window, min_periods=min_periods)\n",
    "X_roll_train_final = X_roll_train[min_periods-1:-n_lags].copy()\n",
    "\n",
    "# assemblying X_train\n",
    "X_train = np.concatenate((X_lag_train_final, X_roll_train_final),axis=1)"
   ]
  },
  {
   "cell_type": "code",
   "execution_count": null,
   "metadata": {},
   "outputs": [],
   "source": [
    "# valid\n",
    "# lag\n",
    "X_lag_val, y_val_raw = process_lag_features(val, n_lags)\n",
    "X_lag_val_final = X_lag_val[min_periods-1:].copy()\n",
    "\n",
    "# rolling mean\n",
    "X_roll_val = process_roll_mean_feature(val, window=window, min_periods=min_periods)\n",
    "X_roll_val_final = X_roll_val[min_periods-1:-n_lags].copy()\n",
    "\n",
    "# assemblying X_val\n",
    "X_val = np.concatenate((X_lag_val_final, X_roll_val_final),axis=1)"
   ]
  },
  {
   "cell_type": "code",
   "execution_count": null,
   "metadata": {},
   "outputs": [],
   "source": [
    "# y\n",
    "y_train = y_train_raw[min_periods-1:].copy()\n",
    "y_val = y_val_raw[min_periods-1:].copy()"
   ]
  },
  {
   "cell_type": "code",
   "execution_count": 197,
   "metadata": {},
   "outputs": [
    {
     "data": {
      "text/plain": [
       "((1252, 5), (1252,))"
      ]
     },
     "execution_count": 197,
     "metadata": {},
     "output_type": "execute_result"
    }
   ],
   "source": [
    "X_train.shape, y_train.shape"
   ]
  },
  {
   "cell_type": "code",
   "execution_count": 198,
   "metadata": {},
   "outputs": [
    {
     "data": {
      "text/plain": [
       "((498, 5), (498,))"
      ]
     },
     "execution_count": 198,
     "metadata": {},
     "output_type": "execute_result"
    }
   ],
   "source": [
    "X_val.shape, y_val.shape"
   ]
  },
  {
   "cell_type": "markdown",
   "metadata": {},
   "source": [
    "#### Reshaping for required NN input"
   ]
  },
  {
   "cell_type": "code",
   "execution_count": 199,
   "metadata": {},
   "outputs": [],
   "source": [
    "X_train = X_train.reshape(X_train.shape[0], 1, X_train.shape[1])\n",
    "X_val = X_val.reshape(X_val.shape[0] , 1, X_val.shape[1])"
   ]
  },
  {
   "cell_type": "code",
   "execution_count": 200,
   "metadata": {},
   "outputs": [
    {
     "data": {
      "text/plain": [
       "(array([[[-1.14499634, -1.14744547, -1.13865356, -1.15039702,\n",
       "          -1.13149451]],\n",
       " \n",
       "        [[-1.14744547, -1.13865356, -1.15039702, -1.16540603,\n",
       "          -1.13548225]],\n",
       " \n",
       "        [[-1.13865356, -1.15039702, -1.16540603, -1.14700587,\n",
       "          -1.13611651]],\n",
       " \n",
       "        ...,\n",
       " \n",
       "        [[-1.76061656, -1.76312853, -1.76645688, -1.75402267,\n",
       "          -1.77331456]],\n",
       " \n",
       "        [[-1.76312853, -1.76645688, -1.75402267, -1.75452503,\n",
       "          -1.77430678]],\n",
       " \n",
       "        [[-1.76645688, -1.75402267, -1.75452503, -1.76325416,\n",
       "          -1.7742691 ]]]),\n",
       " (1252, 1, 5))"
      ]
     },
     "execution_count": 200,
     "metadata": {},
     "output_type": "execute_result"
    }
   ],
   "source": [
    "X_train, X_train.shape"
   ]
  },
  {
   "cell_type": "markdown",
   "metadata": {},
   "source": [
    "#### Modeling"
   ]
  },
  {
   "cell_type": "code",
   "execution_count": 201,
   "metadata": {},
   "outputs": [
    {
     "name": "stdout",
     "output_type": "stream",
     "text": [
      "Model: \"sequential_6\"\n",
      "_________________________________________________________________\n",
      "Layer (type)                 Output Shape              Param #   \n",
      "=================================================================\n",
      "gru_5 (GRU)                  (None, 1, 256)            201984    \n",
      "_________________________________________________________________\n",
      "dropout_12 (Dropout)         (None, 1, 256)            0         \n",
      "_________________________________________________________________\n",
      "lstm_5 (LSTM)                (None, 256)               525312    \n",
      "_________________________________________________________________\n",
      "dropout_13 (Dropout)         (None, 256)               0         \n",
      "_________________________________________________________________\n",
      "dense_14 (Dense)             (None, 64)                16448     \n",
      "_________________________________________________________________\n",
      "dense_15 (Dense)             (None, 1)                 65        \n",
      "=================================================================\n",
      "Total params: 743,809\n",
      "Trainable params: 743,809\n",
      "Non-trainable params: 0\n",
      "_________________________________________________________________\n",
      "None\n"
     ]
    }
   ],
   "source": [
    "model = Sequential()\n",
    "model.add(GRU(256, input_shape=(1,n_lags+1), return_sequences=True))\n",
    "model.add(Dropout(0.4))\n",
    "model.add(LSTM(256))\n",
    "model.add(Dropout(0.4))\n",
    "model.add(Dense(64, activation='relu'))\n",
    "model.add(Dense(1))\n",
    "print(model.summary())"
   ]
  },
  {
   "cell_type": "code",
   "execution_count": 202,
   "metadata": {},
   "outputs": [
    {
     "name": "stdout",
     "output_type": "stream",
     "text": [
      "Train on 1252 samples, validate on 498 samples\n",
      "Epoch 1/100\n",
      "1252/1252 [==============================] - 5s 4ms/sample - loss: 0.8135 - mean_squared_error: 0.8135 - val_loss: 1.7133 - val_mean_squared_error: 1.7133\n",
      "Epoch 2/100\n",
      "1252/1252 [==============================] - 0s 168us/sample - loss: 0.3099 - mean_squared_error: 0.3099 - val_loss: 0.1060 - val_mean_squared_error: 0.1060\n",
      "Epoch 3/100\n",
      "1252/1252 [==============================] - 0s 173us/sample - loss: 0.0663 - mean_squared_error: 0.0663 - val_loss: 0.1566 - val_mean_squared_error: 0.1566\n",
      "Epoch 4/100\n",
      "1252/1252 [==============================] - 0s 186us/sample - loss: 0.0547 - mean_squared_error: 0.0547 - val_loss: 0.0231 - val_mean_squared_error: 0.0231\n",
      "Epoch 5/100\n",
      "1252/1252 [==============================] - 0s 178us/sample - loss: 0.0485 - mean_squared_error: 0.0485 - val_loss: 0.0183 - val_mean_squared_error: 0.0183\n",
      "Epoch 6/100\n",
      "1252/1252 [==============================] - 0s 197us/sample - loss: 0.0356 - mean_squared_error: 0.0356 - val_loss: 0.0027 - val_mean_squared_error: 0.0027\n",
      "Epoch 7/100\n",
      "1252/1252 [==============================] - 0s 173us/sample - loss: 0.0347 - mean_squared_error: 0.0347 - val_loss: 0.0012 - val_mean_squared_error: 0.0012\n",
      "Epoch 8/100\n",
      "1252/1252 [==============================] - 0s 175us/sample - loss: 0.0331 - mean_squared_error: 0.0331 - val_loss: 0.0013 - val_mean_squared_error: 0.0013\n",
      "Epoch 9/100\n",
      "1252/1252 [==============================] - 0s 171us/sample - loss: 0.0333 - mean_squared_error: 0.0333 - val_loss: 2.5590e-04 - val_mean_squared_error: 2.5590e-04\n",
      "Epoch 10/100\n",
      "1252/1252 [==============================] - 0s 165us/sample - loss: 0.0328 - mean_squared_error: 0.0328 - val_loss: 0.0016 - val_mean_squared_error: 0.0016\n",
      "Epoch 11/100\n",
      "1252/1252 [==============================] - 0s 172us/sample - loss: 0.0319 - mean_squared_error: 0.0319 - val_loss: 7.0264e-04 - val_mean_squared_error: 7.0264e-04\n",
      "Epoch 12/100\n",
      "1252/1252 [==============================] - 0s 165us/sample - loss: 0.0314 - mean_squared_error: 0.0314 - val_loss: 0.0020 - val_mean_squared_error: 0.0020\n",
      "Epoch 13/100\n",
      "1252/1252 [==============================] - 0s 170us/sample - loss: 0.0313 - mean_squared_error: 0.0313 - val_loss: 0.0017 - val_mean_squared_error: 0.0017\n",
      "Epoch 14/100\n",
      "1252/1252 [==============================] - 0s 206us/sample - loss: 0.0274 - mean_squared_error: 0.0274 - val_loss: 0.0016 - val_mean_squared_error: 0.0016\n",
      "Epoch 15/100\n",
      "1252/1252 [==============================] - 0s 183us/sample - loss: 0.0289 - mean_squared_error: 0.0289 - val_loss: 4.0241e-04 - val_mean_squared_error: 4.0241e-04\n",
      "Epoch 16/100\n",
      "1252/1252 [==============================] - 0s 169us/sample - loss: 0.0291 - mean_squared_error: 0.0291 - val_loss: 2.7577e-04 - val_mean_squared_error: 2.7577e-04\n",
      "Epoch 17/100\n",
      "1252/1252 [==============================] - 0s 175us/sample - loss: 0.0295 - mean_squared_error: 0.0295 - val_loss: 8.5583e-04 - val_mean_squared_error: 8.5583e-04\n",
      "Epoch 18/100\n",
      "1252/1252 [==============================] - 0s 168us/sample - loss: 0.0255 - mean_squared_error: 0.0255 - val_loss: 0.0014 - val_mean_squared_error: 0.0014\n",
      "Epoch 19/100\n",
      "1252/1252 [==============================] - 0s 178us/sample - loss: 0.0266 - mean_squared_error: 0.0266 - val_loss: 1.9766e-04 - val_mean_squared_error: 1.9766e-04\n",
      "Epoch 20/100\n",
      "1252/1252 [==============================] - 0s 164us/sample - loss: 0.0242 - mean_squared_error: 0.0242 - val_loss: 0.0014 - val_mean_squared_error: 0.0014\n",
      "Epoch 21/100\n",
      "1252/1252 [==============================] - 0s 185us/sample - loss: 0.0258 - mean_squared_error: 0.0258 - val_loss: 2.0435e-04 - val_mean_squared_error: 2.0435e-04\n",
      "Epoch 22/100\n",
      "1252/1252 [==============================] - 0s 183us/sample - loss: 0.0251 - mean_squared_error: 0.0251 - val_loss: 0.0016 - val_mean_squared_error: 0.0016\n",
      "Epoch 23/100\n",
      "1252/1252 [==============================] - 0s 162us/sample - loss: 0.0244 - mean_squared_error: 0.0244 - val_loss: 2.7458e-04 - val_mean_squared_error: 2.7458e-04\n",
      "Epoch 24/100\n",
      "1252/1252 [==============================] - 0s 169us/sample - loss: 0.0236 - mean_squared_error: 0.0236 - val_loss: 0.0015 - val_mean_squared_error: 0.0015\n",
      "Epoch 25/100\n",
      "1252/1252 [==============================] - 0s 169us/sample - loss: 0.0229 - mean_squared_error: 0.0229 - val_loss: 4.6662e-04 - val_mean_squared_error: 4.6662e-04\n",
      "Epoch 26/100\n",
      "1252/1252 [==============================] - 0s 171us/sample - loss: 0.0252 - mean_squared_error: 0.0252 - val_loss: 0.0057 - val_mean_squared_error: 0.0057\n",
      "Epoch 27/100\n",
      "1252/1252 [==============================] - 0s 169us/sample - loss: 0.0219 - mean_squared_error: 0.0219 - val_loss: 1.6945e-04 - val_mean_squared_error: 1.6945e-04\n",
      "Epoch 28/100\n",
      "1252/1252 [==============================] - 0s 165us/sample - loss: 0.0219 - mean_squared_error: 0.0219 - val_loss: 9.9085e-04 - val_mean_squared_error: 9.9085e-04\n",
      "Epoch 29/100\n",
      "1252/1252 [==============================] - 0s 163us/sample - loss: 0.0234 - mean_squared_error: 0.0234 - val_loss: 7.1271e-04 - val_mean_squared_error: 7.1271e-04\n",
      "Epoch 30/100\n",
      "1252/1252 [==============================] - 0s 165us/sample - loss: 0.0220 - mean_squared_error: 0.0220 - val_loss: 5.5904e-04 - val_mean_squared_error: 5.5904e-04\n",
      "Epoch 31/100\n",
      "1252/1252 [==============================] - 0s 169us/sample - loss: 0.0227 - mean_squared_error: 0.0227 - val_loss: 0.0014 - val_mean_squared_error: 0.0014\n",
      "Epoch 32/100\n",
      "1252/1252 [==============================] - 0s 161us/sample - loss: 0.0220 - mean_squared_error: 0.0220 - val_loss: 6.4456e-04 - val_mean_squared_error: 6.4456e-04\n",
      "Epoch 33/100\n",
      "1252/1252 [==============================] - 0s 161us/sample - loss: 0.0213 - mean_squared_error: 0.0213 - val_loss: 0.0017 - val_mean_squared_error: 0.0017\n",
      "Epoch 34/100\n",
      "1252/1252 [==============================] - 0s 167us/sample - loss: 0.0209 - mean_squared_error: 0.0209 - val_loss: 2.9854e-04 - val_mean_squared_error: 2.9854e-04\n",
      "Epoch 35/100\n",
      "1252/1252 [==============================] - 0s 161us/sample - loss: 0.0202 - mean_squared_error: 0.0202 - val_loss: 1.5515e-04 - val_mean_squared_error: 1.5515e-04\n",
      "Epoch 36/100\n",
      "1252/1252 [==============================] - 0s 173us/sample - loss: 0.0202 - mean_squared_error: 0.0202 - val_loss: 0.0012 - val_mean_squared_error: 0.0012\n",
      "Epoch 37/100\n",
      "1252/1252 [==============================] - 0s 175us/sample - loss: 0.0208 - mean_squared_error: 0.0208 - val_loss: 6.5708e-04 - val_mean_squared_error: 6.5708e-04\n",
      "Epoch 38/100\n",
      "1252/1252 [==============================] - 0s 170us/sample - loss: 0.0199 - mean_squared_error: 0.0199 - val_loss: 1.7586e-04 - val_mean_squared_error: 1.7586e-04\n",
      "Epoch 39/100\n",
      "1252/1252 [==============================] - 0s 184us/sample - loss: 0.0208 - mean_squared_error: 0.0208 - val_loss: 0.0016 - val_mean_squared_error: 0.0016\n",
      "Epoch 40/100\n",
      "1252/1252 [==============================] - 0s 192us/sample - loss: 0.0206 - mean_squared_error: 0.0206 - val_loss: 3.8105e-04 - val_mean_squared_error: 3.8105e-04\n",
      "Epoch 41/100\n",
      "1252/1252 [==============================] - 0s 175us/sample - loss: 0.0182 - mean_squared_error: 0.0182 - val_loss: 0.0019 - val_mean_squared_error: 0.0019\n",
      "Epoch 42/100\n",
      "1252/1252 [==============================] - 0s 165us/sample - loss: 0.0208 - mean_squared_error: 0.0208 - val_loss: 3.4688e-04 - val_mean_squared_error: 3.4688e-04\n",
      "Epoch 43/100\n",
      "1252/1252 [==============================] - 0s 179us/sample - loss: 0.0209 - mean_squared_error: 0.0209 - val_loss: 2.1243e-04 - val_mean_squared_error: 2.1243e-04\n",
      "Epoch 44/100\n",
      "1252/1252 [==============================] - 0s 170us/sample - loss: 0.0187 - mean_squared_error: 0.0187 - val_loss: 0.0016 - val_mean_squared_error: 0.0016\n",
      "Epoch 45/100\n",
      "1252/1252 [==============================] - 0s 199us/sample - loss: 0.0191 - mean_squared_error: 0.0191 - val_loss: 0.0022 - val_mean_squared_error: 0.0022\n",
      "Epoch 46/100\n",
      "1252/1252 [==============================] - 0s 175us/sample - loss: 0.0184 - mean_squared_error: 0.0184 - val_loss: 0.0024 - val_mean_squared_error: 0.0024\n",
      "Epoch 47/100\n",
      "1252/1252 [==============================] - 0s 169us/sample - loss: 0.0186 - mean_squared_error: 0.0186 - val_loss: 2.2688e-04 - val_mean_squared_error: 2.2688e-04\n",
      "Epoch 48/100\n",
      "1252/1252 [==============================] - 0s 165us/sample - loss: 0.0188 - mean_squared_error: 0.0188 - val_loss: 2.6567e-04 - val_mean_squared_error: 2.6567e-04\n",
      "Epoch 49/100\n",
      "1252/1252 [==============================] - 0s 161us/sample - loss: 0.0187 - mean_squared_error: 0.0187 - val_loss: 0.0021 - val_mean_squared_error: 0.0021\n",
      "Epoch 50/100\n",
      "1252/1252 [==============================] - 0s 181us/sample - loss: 0.0193 - mean_squared_error: 0.0193 - val_loss: 0.0031 - val_mean_squared_error: 0.0031\n",
      "Epoch 51/100\n",
      "1252/1252 [==============================] - 0s 162us/sample - loss: 0.0194 - mean_squared_error: 0.0194 - val_loss: 0.0013 - val_mean_squared_error: 0.0013\n",
      "Epoch 52/100\n",
      "1252/1252 [==============================] - 0s 157us/sample - loss: 0.0187 - mean_squared_error: 0.0187 - val_loss: 0.0043 - val_mean_squared_error: 0.0043\n",
      "Epoch 53/100\n",
      "1252/1252 [==============================] - 0s 167us/sample - loss: 0.0188 - mean_squared_error: 0.0188 - val_loss: 2.5576e-04 - val_mean_squared_error: 2.5576e-04\n",
      "Epoch 54/100\n",
      "1252/1252 [==============================] - 0s 161us/sample - loss: 0.0200 - mean_squared_error: 0.0200 - val_loss: 3.3303e-04 - val_mean_squared_error: 3.3303e-04\n",
      "Epoch 55/100\n",
      "1252/1252 [==============================] - 0s 168us/sample - loss: 0.0198 - mean_squared_error: 0.0198 - val_loss: 0.0018 - val_mean_squared_error: 0.0018\n",
      "Epoch 56/100\n",
      "1252/1252 [==============================] - 0s 158us/sample - loss: 0.0189 - mean_squared_error: 0.0189 - val_loss: 0.0025 - val_mean_squared_error: 0.0025\n",
      "Epoch 57/100\n",
      "1252/1252 [==============================] - 0s 161us/sample - loss: 0.0183 - mean_squared_error: 0.0183 - val_loss: 2.4020e-04 - val_mean_squared_error: 2.4020e-04\n",
      "Epoch 58/100\n",
      "1252/1252 [==============================] - 0s 180us/sample - loss: 0.0188 - mean_squared_error: 0.0188 - val_loss: 1.6616e-04 - val_mean_squared_error: 1.6616e-04\n",
      "Epoch 59/100\n",
      "1252/1252 [==============================] - 0s 174us/sample - loss: 0.0186 - mean_squared_error: 0.0186 - val_loss: 0.0040 - val_mean_squared_error: 0.0040\n",
      "Epoch 60/100\n",
      "1252/1252 [==============================] - 0s 179us/sample - loss: 0.0192 - mean_squared_error: 0.0192 - val_loss: 1.3407e-04 - val_mean_squared_error: 1.3407e-04\n",
      "Epoch 61/100\n",
      "1252/1252 [==============================] - 0s 180us/sample - loss: 0.0171 - mean_squared_error: 0.0171 - val_loss: 6.6095e-04 - val_mean_squared_error: 6.6095e-04\n",
      "Epoch 62/100\n",
      "1252/1252 [==============================] - 0s 185us/sample - loss: 0.0196 - mean_squared_error: 0.0196 - val_loss: 8.1676e-04 - val_mean_squared_error: 8.1676e-04\n",
      "Epoch 63/100\n",
      "1252/1252 [==============================] - 0s 188us/sample - loss: 0.0197 - mean_squared_error: 0.0197 - val_loss: 5.4869e-04 - val_mean_squared_error: 5.4869e-04\n",
      "Epoch 64/100\n",
      "1252/1252 [==============================] - 0s 178us/sample - loss: 0.0176 - mean_squared_error: 0.0176 - val_loss: 2.6166e-04 - val_mean_squared_error: 2.6166e-04\n",
      "Epoch 65/100\n",
      "1252/1252 [==============================] - 0s 175us/sample - loss: 0.0195 - mean_squared_error: 0.0195 - val_loss: 1.8255e-04 - val_mean_squared_error: 1.8255e-04\n",
      "Epoch 66/100\n",
      "1252/1252 [==============================] - 0s 181us/sample - loss: 0.0181 - mean_squared_error: 0.0181 - val_loss: 0.0035 - val_mean_squared_error: 0.0035\n",
      "Epoch 67/100\n",
      "1252/1252 [==============================] - 0s 171us/sample - loss: 0.0195 - mean_squared_error: 0.0195 - val_loss: 5.9675e-04 - val_mean_squared_error: 5.9675e-04\n",
      "Epoch 68/100\n",
      "1252/1252 [==============================] - 0s 177us/sample - loss: 0.0178 - mean_squared_error: 0.0178 - val_loss: 1.9425e-04 - val_mean_squared_error: 1.9425e-04\n",
      "Epoch 69/100\n",
      "1252/1252 [==============================] - 0s 172us/sample - loss: 0.0194 - mean_squared_error: 0.0194 - val_loss: 2.4224e-04 - val_mean_squared_error: 2.4224e-04\n",
      "Epoch 70/100\n",
      "1252/1252 [==============================] - 0s 169us/sample - loss: 0.0188 - mean_squared_error: 0.0188 - val_loss: 0.0027 - val_mean_squared_error: 0.0027\n",
      "Epoch 71/100\n",
      "1252/1252 [==============================] - 0s 193us/sample - loss: 0.0194 - mean_squared_error: 0.0194 - val_loss: 3.4060e-04 - val_mean_squared_error: 3.4060e-04\n",
      "Epoch 72/100\n",
      "1252/1252 [==============================] - 0s 197us/sample - loss: 0.0175 - mean_squared_error: 0.0175 - val_loss: 0.0021 - val_mean_squared_error: 0.0021\n",
      "Epoch 73/100\n",
      "1252/1252 [==============================] - 0s 184us/sample - loss: 0.0184 - mean_squared_error: 0.0184 - val_loss: 0.0023 - val_mean_squared_error: 0.0023\n",
      "Epoch 74/100\n",
      "1252/1252 [==============================] - 0s 187us/sample - loss: 0.0176 - mean_squared_error: 0.0176 - val_loss: 9.5532e-04 - val_mean_squared_error: 9.5532e-04\n",
      "Epoch 75/100\n",
      "1252/1252 [==============================] - 0s 178us/sample - loss: 0.0188 - mean_squared_error: 0.0188 - val_loss: 6.1300e-04 - val_mean_squared_error: 6.1300e-04\n",
      "Epoch 76/100\n",
      "1252/1252 [==============================] - 0s 162us/sample - loss: 0.0177 - mean_squared_error: 0.0177 - val_loss: 1.4559e-04 - val_mean_squared_error: 1.4559e-04\n",
      "Epoch 77/100\n",
      "1252/1252 [==============================] - 0s 172us/sample - loss: 0.0176 - mean_squared_error: 0.0176 - val_loss: 0.0024 - val_mean_squared_error: 0.0024\n",
      "Epoch 78/100\n",
      "1252/1252 [==============================] - 0s 172us/sample - loss: 0.0181 - mean_squared_error: 0.0181 - val_loss: 0.0013 - val_mean_squared_error: 0.0013\n",
      "Epoch 79/100\n",
      "1252/1252 [==============================] - 0s 166us/sample - loss: 0.0185 - mean_squared_error: 0.0185 - val_loss: 0.0016 - val_mean_squared_error: 0.0016\n",
      "Epoch 80/100\n",
      "1252/1252 [==============================] - 0s 164us/sample - loss: 0.0187 - mean_squared_error: 0.0187 - val_loss: 2.4637e-04 - val_mean_squared_error: 2.4637e-04\n",
      "Epoch 81/100\n",
      "1252/1252 [==============================] - 0s 174us/sample - loss: 0.0183 - mean_squared_error: 0.0183 - val_loss: 1.8837e-04 - val_mean_squared_error: 1.8837e-04\n",
      "Epoch 82/100\n",
      "1252/1252 [==============================] - 0s 155us/sample - loss: 0.0184 - mean_squared_error: 0.0184 - val_loss: 0.0028 - val_mean_squared_error: 0.0028\n",
      "Epoch 83/100\n",
      "1252/1252 [==============================] - 0s 187us/sample - loss: 0.0196 - mean_squared_error: 0.0196 - val_loss: 5.4226e-04 - val_mean_squared_error: 5.4226e-04\n",
      "Epoch 84/100\n",
      "1252/1252 [==============================] - 0s 156us/sample - loss: 0.0199 - mean_squared_error: 0.0199 - val_loss: 0.0013 - val_mean_squared_error: 0.0013\n",
      "Epoch 85/100\n",
      "1252/1252 [==============================] - 0s 176us/sample - loss: 0.0196 - mean_squared_error: 0.0196 - val_loss: 9.9921e-04 - val_mean_squared_error: 9.9921e-04\n",
      "Epoch 86/100\n",
      "1252/1252 [==============================] - 0s 164us/sample - loss: 0.0177 - mean_squared_error: 0.0177 - val_loss: 5.1599e-04 - val_mean_squared_error: 5.1599e-04\n",
      "Epoch 87/100\n",
      "1252/1252 [==============================] - 0s 177us/sample - loss: 0.0183 - mean_squared_error: 0.0183 - val_loss: 0.0024 - val_mean_squared_error: 0.0024\n",
      "Epoch 88/100\n",
      "1252/1252 [==============================] - 0s 167us/sample - loss: 0.0170 - mean_squared_error: 0.0170 - val_loss: 0.0015 - val_mean_squared_error: 0.0015\n",
      "Epoch 89/100\n",
      "1252/1252 [==============================] - 0s 173us/sample - loss: 0.0158 - mean_squared_error: 0.0158 - val_loss: 4.5065e-04 - val_mean_squared_error: 4.5065e-04\n",
      "Epoch 90/100\n",
      "1252/1252 [==============================] - 0s 172us/sample - loss: 0.0176 - mean_squared_error: 0.0176 - val_loss: 2.1639e-04 - val_mean_squared_error: 2.1639e-04\n",
      "Epoch 91/100\n",
      "1252/1252 [==============================] - 0s 177us/sample - loss: 0.0171 - mean_squared_error: 0.0171 - val_loss: 0.0030 - val_mean_squared_error: 0.0030\n",
      "Epoch 92/100\n",
      "1252/1252 [==============================] - 0s 169us/sample - loss: 0.0176 - mean_squared_error: 0.0176 - val_loss: 6.2318e-04 - val_mean_squared_error: 6.2318e-04\n",
      "Epoch 93/100\n",
      "1252/1252 [==============================] - 0s 156us/sample - loss: 0.0175 - mean_squared_error: 0.0175 - val_loss: 3.2683e-04 - val_mean_squared_error: 3.2683e-04\n",
      "Epoch 94/100\n",
      "1252/1252 [==============================] - 0s 157us/sample - loss: 0.0171 - mean_squared_error: 0.0171 - val_loss: 0.0012 - val_mean_squared_error: 0.0012\n",
      "Epoch 95/100\n",
      "1252/1252 [==============================] - 0s 183us/sample - loss: 0.0171 - mean_squared_error: 0.0171 - val_loss: 0.0017 - val_mean_squared_error: 0.0017\n",
      "Epoch 96/100\n",
      "1252/1252 [==============================] - 0s 164us/sample - loss: 0.0184 - mean_squared_error: 0.0184 - val_loss: 8.1207e-04 - val_mean_squared_error: 8.1207e-04\n",
      "Epoch 97/100\n",
      "1252/1252 [==============================] - 0s 181us/sample - loss: 0.0172 - mean_squared_error: 0.0172 - val_loss: 1.2986e-04 - val_mean_squared_error: 1.2986e-04\n",
      "Epoch 98/100\n",
      "1252/1252 [==============================] - 0s 165us/sample - loss: 0.0188 - mean_squared_error: 0.0188 - val_loss: 9.6146e-04 - val_mean_squared_error: 9.6146e-04\n",
      "Epoch 99/100\n",
      "1252/1252 [==============================] - 0s 161us/sample - loss: 0.0191 - mean_squared_error: 0.0191 - val_loss: 0.0043 - val_mean_squared_error: 0.0043\n",
      "Epoch 100/100\n",
      "1252/1252 [==============================] - 0s 167us/sample - loss: 0.0189 - mean_squared_error: 0.0189 - val_loss: 6.2112e-04 - val_mean_squared_error: 6.2112e-04\n"
     ]
    },
    {
     "data": {
      "text/plain": [
       "<tensorflow.python.keras.callbacks.History at 0x1fcd2388d88>"
      ]
     },
     "execution_count": 202,
     "metadata": {},
     "output_type": "execute_result"
    }
   ],
   "source": [
    "model.compile(loss='mean_squared_error', optimizer=Adam(lr = 0.0005) , metrics=['mean_squared_error'])\n",
    "model.fit(X_train, y_train, epochs=100, batch_size=128, validation_data=(X_val, y_val))"
   ]
  },
  {
   "cell_type": "markdown",
   "metadata": {},
   "source": [
    "#### Plotting train and val errors through training"
   ]
  },
  {
   "cell_type": "code",
   "execution_count": 203,
   "metadata": {},
   "outputs": [
    {
     "data": {
      "text/plain": [
       "[<matplotlib.lines.Line2D at 0x1fcd8730c88>]"
      ]
     },
     "execution_count": 203,
     "metadata": {},
     "output_type": "execute_result"
    },
    {
     "data": {
      "image/png": "[encoded data removed]",
      "text/plain": [
       "<Figure size 432x288 with 1 Axes>"
      ]
     },
     "metadata": {
      "needs_background": "light"
     },
     "output_type": "display_data"
    }
   ],
   "source": [
    "plt.plot(model.history.history['mean_squared_error'])"
   ]
  },
  {
   "cell_type": "code",
   "execution_count": 204,
   "metadata": {},
   "outputs": [
    {
     "data": {
      "text/plain": [
       "[<matplotlib.lines.Line2D at 0x1fcd87ba708>]"
      ]
     },
     "execution_count": 204,
     "metadata": {},
     "output_type": "execute_result"
    },
    {
     "data": {
      "image/png": "[encoded data removed]",
      "text/plain": [
       "<Figure size 432x288 with 1 Axes>"
      ]
     },
     "metadata": {
      "needs_background": "light"
     },
     "output_type": "display_data"
    }
   ],
   "source": [
    "plt.plot(model.history.history['val_mean_squared_error'])"
   ]
  },
  {
   "cell_type": "code",
   "execution_count": 205,
   "metadata": {},
   "outputs": [
    {
     "name": "stdout",
     "output_type": "stream",
     "text": [
      "1252/1252 [==============================] - 0s 119us/sample - loss: 0.0122 - mean_squared_error: 0.0122\n",
      "498/498 [==============================] - 0s 131us/sample - loss: 6.2112e-04 - mean_squared_error: 6.2112e-04\n"
     ]
    }
   ],
   "source": [
    "train_score = model.evaluate(X_train, y_train, verbose=1)\n",
    "val_score = model.evaluate(X_val, y_val, verbose=1)"
   ]
  },
  {
   "cell_type": "markdown",
   "metadata": {},
   "source": [
    "#### Plotting predicted X actual validation prices"
   ]
  },
  {
   "cell_type": "code",
   "execution_count": 206,
   "metadata": {},
   "outputs": [],
   "source": [
    "pred = model.predict(X_val)\n",
    "pred = scaler.inverse_transform(pred)\n",
    "y_val = y_val.reshape(y_val.shape[0], 1)\n",
    "y_val_inv_trans = scaler.inverse_transform(y_val)"
   ]
  },
  {
   "cell_type": "code",
   "execution_count": 207,
   "metadata": {},
   "outputs": [
    {
     "name": "stdout",
     "output_type": "stream",
     "text": [
      "Red: Predicted Stock Prices\n",
      "Blue: Actual Stock Prices\n",
      "\n"
     ]
    },
    {
     "data": {
      "image/png": "[encoded data removed]",
      "text/plain": [
       "<Figure size 432x288 with 1 Axes>"
      ]
     },
     "metadata": {
      "needs_background": "light"
     },
     "output_type": "display_data"
    }
   ],
   "source": [
    "print(\"Red: Predicted Stock Prices\\nBlue: Actual Stock Prices\\n\")\n",
    "#b: blue line, actual\n",
    "plt.plot(y_val_inv_trans, 'b')\n",
    "#r: red line, predicted\n",
    "plt.plot(pred, 'r')\n",
    "plt.xlabel('Time')\n",
    "plt.ylabel('Close prices')\n",
    "plt.grid(True)\n",
    "plt.show()"
   ]
  },
  {
   "cell_type": "markdown",
   "metadata": {},
   "source": [
    "#### Exporting scaler and model"
   ]
  },
  {
   "cell_type": "code",
   "execution_count": null,
   "metadata": {},
   "outputs": [],
   "source": [
    "jb.dump(scaler, \"./scaler.pkl.z\")"
   ]
  },
  {
   "cell_type": "code",
   "execution_count": 209,
   "metadata": {},
   "outputs": [],
   "source": [
    "model.save(\"model.h5\")"
   ]
  }
 ],
 "metadata": {
  "kernelspec": {
   "display_name": "tf_env",
   "language": "python",
   "name": "tf_env"
  },
  "language_info": {
   "codemirror_mode": {
    "name": "ipython",
    "version": 3
   },
   "file_extension": ".py",
   "mimetype": "text/x-python",
   "name": "python",
   "nbconvert_exporter": "python",
   "pygments_lexer": "ipython3",
   "version": "3.7.9"
  }
 },
 "nbformat": 4,
 "nbformat_minor": 4
}
